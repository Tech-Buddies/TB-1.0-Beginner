{
 "cells": [
  {
   "cell_type": "markdown",
   "metadata": {},
   "source": [
    "# INTRODUCTION"
   ]
  },
  {
   "cell_type": "markdown",
   "metadata": {},
   "source": [
    "## What is Programming?"
   ]
  },
  {
   "cell_type": "markdown",
   "metadata": {},
   "source": [
    "Programming is simply the act of instructing the computer on what task to perform. Therefore, a computer program is a set of instructions that tell the computer hardware what to do. Software is a collection of computer program."
   ]
  },
  {
   "cell_type": "markdown",
   "metadata": {},
   "source": [
    "### What is Python?"
   ]
  },
  {
   "cell_type": "markdown",
   "metadata": {},
   "source": [
    "Python is a general purpose, high level programming language that was developed by Guido van Rossum in the late 1980s. Like all high level programming languages, Python code resembles the\n",
    "\tEnglish language which computers are unable to understand. For the computer to understand the codes, it has to be interpreted by a special piece of software known as interpreter which must be installed before we can code, \t\ttext and execute our python programs."
   ]
  },
  {
   "cell_type": "markdown",
   "metadata": {},
   "source": [
    "### Why learn Python?"
   ]
  },
  {
   "cell_type": "markdown",
   "metadata": {},
   "source": [
    "There are many high level programming languages available, such as Java, C++ etc. The good news is all high level programming languages are very similar to one another. What differs is mainly the syntax, the libraries \tavailable and the way we access those libraries. A library is simply a collection of resources and pre-written codes that we can use when we write our programs. Python is a very good place to start for beginners \t\tbecause of its simplicity."
   ]
  },
  {
   "cell_type": "markdown",
   "metadata": {},
   "source": [
    "### What can you do with Python?"
   ]
  },
  {
   "cell_type": "markdown",
   "metadata": {},
   "source": [
    "Python can be used for\n",
    "1. Web develpoment\n",
    "2. Data science/machine learning\n",
    "3. Mobile app development\n",
    "4. Game development\n",
    "5. Hardware and robotics etc.."
   ]
  },
  {
   "cell_type": "markdown",
   "metadata": {},
   "source": [
    "## Setting up our coding environment"
   ]
  },
  {
   "cell_type": "markdown",
   "metadata": {},
   "source": [
    "There are many Integrated Development Environment available for Python but we'll be using the Anaconda package for this tutorial"
   ]
  },
  {
   "cell_type": "markdown",
   "metadata": {},
   "source": [
    "## Python Syntax"
   ]
  },
  {
   "cell_type": "markdown",
   "metadata": {},
   "source": [
    "As applied to human languages, syntax in programming language, is the set of rules, principles, and processes that govern the structure of a programme (i.e a set of instruction). Python syntax can be executed by writing directly in our notebook (or interpreter)."
   ]
  },
  {
   "cell_type": "markdown",
   "metadata": {},
   "source": [
    "### Writing your first program"
   ]
  },
  {
   "cell_type": "code",
   "execution_count": 2,
   "metadata": {},
   "outputs": [
    {
     "name": "stdout",
     "output_type": "stream",
     "text": [
      "Hello world\n",
      "Hello universe\n"
     ]
    }
   ],
   "source": [
    "print('Hello world')\n",
    "print(\"Hello universe\")"
   ]
  },
  {
   "cell_type": "code",
   "execution_count": 3,
   "metadata": {},
   "outputs": [
    {
     "name": "stdout",
     "output_type": "stream",
     "text": [
      "Pyhon is awesome\n"
     ]
    }
   ],
   "source": [
    "print('Pyhon is awesome')"
   ]
  },
  {
   "cell_type": "markdown",
   "metadata": {},
   "source": [
    "Print is a command (built in function) asking the interpreter to dispaly 'Hello World'. In essence, we have given the computer an instruction to dispaly hello word on the screen."
   ]
  },
  {
   "cell_type": "code",
   "execution_count": 8,
   "metadata": {},
   "outputs": [
    {
     "name": "stdout",
     "output_type": "stream",
     "text": [
      "4\n"
     ]
    }
   ],
   "source": [
    "print(2 + 2)"
   ]
  },
  {
   "cell_type": "code",
   "execution_count": 5,
   "metadata": {},
   "outputs": [
    {
     "data": {
      "text/plain": [
       "0.25"
      ]
     },
     "execution_count": 5,
     "metadata": {},
     "output_type": "execute_result"
    }
   ],
   "source": [
    "2/8"
   ]
  },
  {
   "cell_type": "markdown",
   "metadata": {},
   "source": [
    "Here, we areasking the interpreter to evaluate the value of 2 + 2"
   ]
  },
  {
   "cell_type": "code",
   "execution_count": 8,
   "metadata": {},
   "outputs": [
    {
     "data": {
      "text/plain": [
       "1.6666666666666667"
      ]
     },
     "execution_count": 8,
     "metadata": {},
     "output_type": "execute_result"
    }
   ],
   "source": [
    "5/3"
   ]
  },
  {
   "cell_type": "code",
   "execution_count": 9,
   "metadata": {},
   "outputs": [
    {
     "data": {
      "text/plain": [
       "2"
      ]
     },
     "execution_count": 9,
     "metadata": {},
     "output_type": "execute_result"
    }
   ],
   "source": [
    "9//4"
   ]
  },
  {
   "cell_type": "markdown",
   "metadata": {},
   "source": [
    "## Python variables"
   ]
  },
  {
   "cell_type": "markdown",
   "metadata": {},
   "source": [
    "Variables are names (i.e containers) given to data that we need to store and manipulate in our programs. For instance, suppose your program needs to store the name of a given user. To do that, we can name this data UserName and define \tthe variable UserName using the following statement below;"
   ]
  },
  {
   "cell_type": "code",
   "execution_count": 3,
   "metadata": {},
   "outputs": [],
   "source": [
    "UserName = 'Ibraheem'"
   ]
  },
  {
   "cell_type": "markdown",
   "metadata": {},
   "source": [
    "Whenever a variable is declared, the program allocates some area of the computer's storage to it, the variable can later be accessed and manipulated. we can as well declare many variables at a go. E.g"
   ]
  },
  {
   "cell_type": "code",
   "execution_count": 4,
   "metadata": {},
   "outputs": [
    {
     "name": "stdout",
     "output_type": "stream",
     "text": [
      "Ibraheem\n",
      "30\n",
      "username is Ibraheem and the user is 30 years old\n"
     ]
    }
   ],
   "source": [
    "UserName1 = 'Ibraheem'\n",
    "UserAge = 30\n",
    "print(UserName1)\n",
    "print(UserAge)\n",
    "print(f\"username is {UserName1} and the user is {UserAge} years old\")"
   ]
  },
  {
   "cell_type": "markdown",
   "metadata": {},
   "source": [
    "### Naming a Variable"
   ]
  },
  {
   "cell_type": "markdown",
   "metadata": {},
   "source": [
    "A variable name in Python can only contain letters (a - z, A - B), numbers or underscores (_). However, the first character cannot be a number. Hence, you can name your variables userName, user_name \tor \t\tuserName2 but not 2userName. In addition, there are some reserved words that you cannot use as a variable name because they already have preassigned meanings in Python. These reserved words include words like \tprint, input, if, while etc. Finally, variable names are case sensitive. username is not the same as userName.\n",
    "Hint: variable should be descriptive of the value they hold"
   ]
  },
  {
   "cell_type": "code",
   "execution_count": 5,
   "metadata": {},
   "outputs": [
    {
     "ename": "SyntaxError",
     "evalue": "invalid syntax (<ipython-input-5-caed06a8a912>, line 1)",
     "output_type": "error",
     "traceback": [
      "\u001b[1;36m  File \u001b[1;32m\"<ipython-input-5-caed06a8a912>\"\u001b[1;36m, line \u001b[1;32m1\u001b[0m\n\u001b[1;33m    2user_name = 'Basit'\u001b[0m\n\u001b[1;37m             ^\u001b[0m\n\u001b[1;31mSyntaxError\u001b[0m\u001b[1;31m:\u001b[0m invalid syntax\n"
     ]
    }
   ],
   "source": [
    "2user_name = 'Basit'"
   ]
  },
  {
   "cell_type": "markdown",
   "metadata": {},
   "source": [
    "### Expressions, Operators and Precedence in Python"
   ]
  },
  {
   "cell_type": "markdown",
   "metadata": {},
   "source": [
    "#### Arithmetic Operators\n",
    "1. Multiplication *\n",
    "2. Addition\t      +\n",
    "3. Subtraction    -\n",
    "4. Division\t      /\n",
    "5. Modulus        %\n",
    "6. Exponent       **\n",
    "7. Assigments     ="
   ]
  },
  {
   "cell_type": "markdown",
   "metadata": {},
   "source": [
    "We also have other types of operators such as logical operators, comparison operators, bitwise operators etc.."
   ]
  },
  {
   "cell_type": "markdown",
   "metadata": {},
   "source": [
    "#### Precedence\n",
    "Programming languages follow a strict rule on how compound expressions, such as 4 + 5 * 3, are evaluated. The order in which expressions are evaluated is as follow;\n",
    "Multiplication --> Division --> Addition --> Subtraction"
   ]
  },
  {
   "cell_type": "code",
   "execution_count": 117,
   "metadata": {},
   "outputs": [
    {
     "data": {
      "text/plain": [
       "19"
      ]
     },
     "execution_count": 117,
     "metadata": {},
     "output_type": "execute_result"
    }
   ],
   "source": [
    "4 + 5 * 3"
   ]
  },
  {
   "cell_type": "markdown",
   "metadata": {},
   "source": [
    "5 multiply by 3 is evaluated first and the result is added to 4"
   ]
  },
  {
   "cell_type": "code",
   "execution_count": 118,
   "metadata": {},
   "outputs": [
    {
     "data": {
      "text/plain": [
       "27"
      ]
     },
     "execution_count": 118,
     "metadata": {},
     "output_type": "execute_result"
    }
   ],
   "source": [
    "(4 + 5) * 3"
   ]
  },
  {
   "cell_type": "code",
   "execution_count": 8,
   "metadata": {},
   "outputs": [
    {
     "data": {
      "text/plain": [
       "9.0"
      ]
     },
     "execution_count": 8,
     "metadata": {},
     "output_type": "execute_result"
    }
   ],
   "source": [
    "((4 + 5) * 3) / 3"
   ]
  },
  {
   "cell_type": "code",
   "execution_count": 6,
   "metadata": {},
   "outputs": [
    {
     "data": {
      "text/plain": [
       "9.0"
      ]
     },
     "execution_count": 6,
     "metadata": {},
     "output_type": "execute_result"
    }
   ],
   "source": [
    "4 + 5 * 3 /3"
   ]
  },
  {
   "cell_type": "markdown",
   "metadata": {},
   "source": [
    "### Using Variables"
   ]
  },
  {
   "cell_type": "code",
   "execution_count": 7,
   "metadata": {},
   "outputs": [
    {
     "name": "stdout",
     "output_type": "stream",
     "text": [
      "20\n"
     ]
    }
   ],
   "source": [
    "#Let's calculate the area of a rectangle, given it's legth and breadth\n",
    "#first we declare the variables\n",
    "Length = 5\n",
    "Breadth = 4\n",
    "Area = Length * Breadth\n",
    "print(Area)"
   ]
  },
  {
   "cell_type": "markdown",
   "metadata": {},
   "source": [
    "Challenge 1: calculate the perimeter"
   ]
  },
  {
   "cell_type": "code",
   "execution_count": 8,
   "metadata": {},
   "outputs": [
    {
     "name": "stdout",
     "output_type": "stream",
     "text": [
      "18\n"
     ]
    }
   ],
   "source": [
    "Perimeter = 2 * (Length + Breadth)\n",
    "print(Perimeter)"
   ]
  },
  {
   "cell_type": "code",
   "execution_count": 10,
   "metadata": {},
   "outputs": [
    {
     "name": "stdout",
     "output_type": "stream",
     "text": [
      "157.1\n"
     ]
    }
   ],
   "source": [
    "#Let's calculate the area of circle given it's radius\n",
    "#first we declare our variables\n",
    "radius = 5\n",
    "pi = 3.142\n",
    "Area = (2 * pi * radius**2)\n",
    "print(Area)"
   ]
  },
  {
   "cell_type": "markdown",
   "metadata": {},
   "source": [
    "Challenge 2: calculate the perimeter"
   ]
  },
  {
   "cell_type": "code",
   "execution_count": 11,
   "metadata": {},
   "outputs": [
    {
     "name": "stdout",
     "output_type": "stream",
     "text": [
      "The area of the circle is 157.08\n"
     ]
    }
   ],
   "source": [
    "# A more elegant way to do this is to use the math module\n",
    "import math\n",
    "Area = 2 * math.pi * math.pow(radius,2)\n",
    "print(f\"The area of the circle is {Area:.2f}\")"
   ]
  },
  {
   "cell_type": "markdown",
   "metadata": {},
   "source": [
    "# Data types\n",
    "There are basically five standard types in python"
   ]
  },
  {
   "cell_type": "markdown",
   "metadata": {},
   "source": [
    "## 1. Numeric data type\n",
    "Numeric data types as the name implies can be of two types namely integer and floating point numbers\n",
    "1. int: contains no decimal point e.g 2,5, -4, 0 etc."
   ]
  },
  {
   "cell_type": "code",
   "execution_count": 11,
   "metadata": {},
   "outputs": [
    {
     "name": "stdout",
     "output_type": "stream",
     "text": [
      "<class 'int'>\n",
      "<class 'int'>\n",
      "<class 'int'>\n"
     ]
    }
   ],
   "source": [
    "Weight = -58\n",
    "Height = 79\n",
    "print(type(Weight))\n",
    "print(type(Height))\n",
    "print(type(Weight))"
   ]
  },
  {
   "cell_type": "markdown",
   "metadata": {},
   "source": [
    "2.float: real numbers with decima point e.g -0.01, 12.5, 3.6 etc..."
   ]
  },
  {
   "cell_type": "code",
   "execution_count": 11,
   "metadata": {},
   "outputs": [
    {
     "name": "stdout",
     "output_type": "stream",
     "text": [
      "<class 'float'>\n",
      "<class 'float'>\n"
     ]
    }
   ],
   "source": [
    "Weight = 58.2\n",
    "Height = 79.3\n",
    "print(type(Weight))\n",
    "print(type(Height))"
   ]
  },
  {
   "cell_type": "markdown",
   "metadata": {},
   "source": [
    "## 2. Textual data type (strings)\n",
    "* String is used to store and process textual data. \n",
    "* String value must be framed with eithe a single quote(e.g 'text'), or double quotes(e.g \"text\") or triple quotes(e.g '''text''' or \"\"\"text\"\"\").\n",
    "* **Note: you must start and end with a type of quotation mark when using triple quote. you cant start with \"\"\" and end with '''**"
   ]
  },
  {
   "cell_type": "code",
   "execution_count": null,
   "metadata": {},
   "outputs": [],
   "source": []
  },
  {
   "cell_type": "code",
   "execution_count": 13,
   "metadata": {},
   "outputs": [
    {
     "name": "stdout",
     "output_type": "stream",
     "text": [
      "hello universe! python is awesome\n",
      "<class 'str'>\n",
      "python programming is superb\n"
     ]
    }
   ],
   "source": [
    "message = 'hello universe! python is awesome'\n",
    "message_two = \"python programming is superb\"\n",
    "message_three = \"Laika's dog\"\n",
    "print(message)\n",
    "print(type(message))\n",
    "print(message_two)"
   ]
  },
  {
   "cell_type": "code",
   "execution_count": 14,
   "metadata": {},
   "outputs": [
    {
     "name": "stdout",
     "output_type": "stream",
     "text": [
      "This is Laika's dog\n"
     ]
    }
   ],
   "source": [
    "message1 = \"This is Laika's dog\"\n",
    "print(message1)"
   ]
  },
  {
   "cell_type": "markdown",
   "metadata": {},
   "source": [
    "### String manipulation\n",
    "String can be manipulated using a number of in built functions. Function is simply a block of reusable codes that perform a certain task. We'll come back to it later."
   ]
  },
  {
   "cell_type": "markdown",
   "metadata": {},
   "source": [
    "#### Cases I"
   ]
  },
  {
   "cell_type": "code",
   "execution_count": 15,
   "metadata": {},
   "outputs": [
    {
     "data": {
      "text/plain": [
       "'Hello universe! python is awesome'"
      ]
     },
     "execution_count": 15,
     "metadata": {},
     "output_type": "execute_result"
    }
   ],
   "source": [
    "message.capitalize() #capitalizes the first character of the string"
   ]
  },
  {
   "cell_type": "code",
   "execution_count": 123,
   "metadata": {},
   "outputs": [
    {
     "data": {
      "text/plain": [
       "'Python Programming Is Superb'"
      ]
     },
     "execution_count": 123,
     "metadata": {},
     "output_type": "execute_result"
    }
   ],
   "source": [
    "message.title() #capitalizes ever character of the string\n",
    "message_two.title()"
   ]
  },
  {
   "cell_type": "code",
   "execution_count": 18,
   "metadata": {},
   "outputs": [
    {
     "data": {
      "text/plain": [
       "'hello universe! python is awesome'"
      ]
     },
     "execution_count": 18,
     "metadata": {},
     "output_type": "execute_result"
    }
   ],
   "source": [
    "message.lower() #Every charater of the srting is turned to lower case"
   ]
  },
  {
   "cell_type": "code",
   "execution_count": 20,
   "metadata": {},
   "outputs": [
    {
     "name": "stdout",
     "output_type": "stream",
     "text": [
      "HELLO UNIVERSE! PYTHON IS AWESOME\n",
      "LAIKA'S DOG\n"
     ]
    }
   ],
   "source": [
    "print(message.upper()) #the string is turned to upper case\n",
    "print(message_three.upper())"
   ]
  },
  {
   "cell_type": "code",
   "execution_count": 18,
   "metadata": {},
   "outputs": [
    {
     "data": {
      "text/plain": [
       "'HELLO UNIVERSE! PYTHON IS AWESOME'"
      ]
     },
     "execution_count": 18,
     "metadata": {},
     "output_type": "execute_result"
    }
   ],
   "source": [
    "message.swapcase() #the beginning of distinct sentence is swapped"
   ]
  },
  {
   "cell_type": "code",
   "execution_count": null,
   "metadata": {},
   "outputs": [],
   "source": []
  },
  {
   "cell_type": "markdown",
   "metadata": {},
   "source": [
    "#### Sequence Operations"
   ]
  },
  {
   "cell_type": "code",
   "execution_count": 29,
   "metadata": {},
   "outputs": [
    {
     "name": "stdout",
     "output_type": "stream",
     "text": [
      "hello universe! Python is awesome\n",
      "y\n",
      "This is Laika's dog\n",
      "s\n"
     ]
    }
   ],
   "source": [
    "print(message)\n",
    "print(max(message))\n",
    "#returns largest character...remeber the position of why in English alphabet\n",
    "print(message1)\n",
    "print(max(message1))"
   ]
  },
  {
   "cell_type": "code",
   "execution_count": 125,
   "metadata": {},
   "outputs": [
    {
     "data": {
      "text/plain": [
       "' '"
      ]
     },
     "execution_count": 125,
     "metadata": {},
     "output_type": "execute_result"
    }
   ],
   "source": [
    "min(message)#returns the smallest character"
   ]
  },
  {
   "cell_type": "code",
   "execution_count": 23,
   "metadata": {},
   "outputs": [
    {
     "data": {
      "text/plain": [
       "33"
      ]
     },
     "execution_count": 23,
     "metadata": {},
     "output_type": "execute_result"
    }
   ],
   "source": [
    "len(message) #returns the length of the string"
   ]
  },
  {
   "cell_type": "code",
   "execution_count": 127,
   "metadata": {},
   "outputs": [
    {
     "data": {
      "text/plain": [
       "'goodevening'"
      ]
     },
     "execution_count": 127,
     "metadata": {},
     "output_type": "execute_result"
    }
   ],
   "source": [
    "#concatenating\n",
    "string1 = 'good'\n",
    "string2 = 'evening'\n",
    "final_string = string1 + string2\n",
    "final_string"
   ]
  },
  {
   "cell_type": "code",
   "execution_count": 128,
   "metadata": {},
   "outputs": [
    {
     "name": "stdout",
     "output_type": "stream",
     "text": [
      "good evening\n"
     ]
    }
   ],
   "source": [
    "final_string = string1 + ' '+ string2\n",
    "print(final_string)"
   ]
  },
  {
   "cell_type": "code",
   "execution_count": 35,
   "metadata": {},
   "outputs": [
    {
     "name": "stdout",
     "output_type": "stream",
     "text": [
      "good eveninggood evening\n",
      "good eveninggood eveninggood evening\n"
     ]
    }
   ],
   "source": [
    "#multiplying strings\n",
    "print(final_string * 2)\n",
    "print(final_string * 3)"
   ]
  },
  {
   "cell_type": "code",
   "execution_count": 36,
   "metadata": {},
   "outputs": [
    {
     "name": "stdout",
     "output_type": "stream",
     "text": [
      "2\n",
      "1\n"
     ]
    }
   ],
   "source": [
    "\n",
    "print(final_string.count('e')) #counts the number of occurence of e\n",
    "print(final_string.count('v'))"
   ]
  },
  {
   "cell_type": "markdown",
   "metadata": {},
   "source": [
    "#### Find/Replace"
   ]
  },
  {
   "cell_type": "code",
   "execution_count": 19,
   "metadata": {},
   "outputs": [
    {
     "data": {
      "text/plain": [
       "'hello world! python is awesome'"
      ]
     },
     "execution_count": 19,
     "metadata": {},
     "output_type": "execute_result"
    }
   ],
   "source": [
    "message = message.replace('universe', 'world') #replaces a character in the string\n",
    "message"
   ]
  },
  {
   "cell_type": "markdown",
   "metadata": {},
   "source": [
    "#### Splitting"
   ]
  },
  {
   "cell_type": "code",
   "execution_count": 21,
   "metadata": {},
   "outputs": [
    {
     "data": {
      "text/plain": [
       "['hello', 'world!', 'python', 'is', 'awesome']"
      ]
     },
     "execution_count": 21,
     "metadata": {},
     "output_type": "execute_result"
    }
   ],
   "source": [
    "message.split(' ')"
   ]
  },
  {
   "cell_type": "code",
   "execution_count": 30,
   "metadata": {},
   "outputs": [
    {
     "data": {
      "text/plain": [
       "['Hello world! Python is awesome']"
      ]
     },
     "execution_count": 30,
     "metadata": {},
     "output_type": "execute_result"
    }
   ],
   "source": [
    "message.splitlines()"
   ]
  },
  {
   "cell_type": "markdown",
   "metadata": {},
   "source": [
    "#### Indexing"
   ]
  },
  {
   "cell_type": "code",
   "execution_count": 130,
   "metadata": {},
   "outputs": [
    {
     "data": {
      "text/plain": [
       "'h'"
      ]
     },
     "execution_count": 130,
     "metadata": {},
     "output_type": "execute_result"
    }
   ],
   "source": [
    "message[0] #get the charcter at the first index"
   ]
  },
  {
   "cell_type": "code",
   "execution_count": 133,
   "metadata": {},
   "outputs": [
    {
     "data": {
      "text/plain": [
       "'o'"
      ]
     },
     "execution_count": 133,
     "metadata": {},
     "output_type": "execute_result"
    }
   ],
   "source": [
    "message[4]"
   ]
  },
  {
   "cell_type": "code",
   "execution_count": 134,
   "metadata": {},
   "outputs": [
    {
     "data": {
      "text/plain": [
       "' '"
      ]
     },
     "execution_count": 134,
     "metadata": {},
     "output_type": "execute_result"
    }
   ],
   "source": [
    "message[5]\n"
   ]
  },
  {
   "cell_type": "code",
   "execution_count": 136,
   "metadata": {},
   "outputs": [
    {
     "data": {
      "text/plain": [
       "'e'"
      ]
     },
     "execution_count": 136,
     "metadata": {},
     "output_type": "execute_result"
    }
   ],
   "source": [
    "message[10]"
   ]
  },
  {
   "cell_type": "code",
   "execution_count": 32,
   "metadata": {},
   "outputs": [
    {
     "data": {
      "text/plain": [
       "'llo wo'"
      ]
     },
     "execution_count": 32,
     "metadata": {},
     "output_type": "execute_result"
    }
   ],
   "source": [
    "message[2:8] #get the character fro index 2 to 7"
   ]
  },
  {
   "cell_type": "code",
   "execution_count": 138,
   "metadata": {},
   "outputs": [
    {
     "data": {
      "text/plain": [
       "'l '"
      ]
     },
     "execution_count": 138,
     "metadata": {},
     "output_type": "execute_result"
    }
   ],
   "source": [
    "message[2:8:3] #get the character from index 2 to 9 with step of 2"
   ]
  },
  {
   "cell_type": "markdown",
   "metadata": {},
   "source": [
    "### String Formatting\n",
    "This is just way we display information on the console. I'll show you different ways this can be achieved"
   ]
  },
  {
   "cell_type": "code",
   "execution_count": 34,
   "metadata": {},
   "outputs": [],
   "source": [
    "#Let's declare some variables and have them printed nicely\n",
    "UserName = 'Abdullah'\n",
    "UserAge = 12"
   ]
  },
  {
   "cell_type": "markdown",
   "metadata": {},
   "source": [
    "#### The old ways of formatting string"
   ]
  },
  {
   "cell_type": "markdown",
   "metadata": {},
   "source": [
    "##### using %s and %d where %stands for string and %d stands for digits"
   ]
  },
  {
   "cell_type": "code",
   "execution_count": 35,
   "metadata": {},
   "outputs": [
    {
     "name": "stdout",
     "output_type": "stream",
     "text": [
      "The name of the user is Abdullah and the user is 12 old.\n"
     ]
    }
   ],
   "source": [
    "print(\"The name of the user is %s and the user is %d old.\" %(UserName, UserAge))"
   ]
  },
  {
   "cell_type": "markdown",
   "metadata": {},
   "source": [
    "##### using .format()"
   ]
  },
  {
   "cell_type": "code",
   "execution_count": 36,
   "metadata": {},
   "outputs": [
    {
     "name": "stdout",
     "output_type": "stream",
     "text": [
      "The name of the user is Abdullah and the user is 12 old\n"
     ]
    }
   ],
   "source": [
    "print(\"The name of the user is {} and the user is {} old\".format(UserName, UserAge))"
   ]
  },
  {
   "cell_type": "code",
   "execution_count": 37,
   "metadata": {},
   "outputs": [
    {
     "name": "stdout",
     "output_type": "stream",
     "text": [
      "The name of the user is Abdullah and the user is 12 old\n"
     ]
    }
   ],
   "source": [
    "print(\"The name of the user is {a} and the user is {b} old\".format(a= UserName, b = UserAge))"
   ]
  },
  {
   "cell_type": "markdown",
   "metadata": {},
   "source": [
    "#### The new way of formatting using f string"
   ]
  },
  {
   "cell_type": "code",
   "execution_count": 38,
   "metadata": {},
   "outputs": [
    {
     "name": "stdout",
     "output_type": "stream",
     "text": [
      "The name of the user is Abdullah and the user is 12 old\n"
     ]
    }
   ],
   "source": [
    "print(f\"The name of the user is {UserName} and the user is {UserAge} old\")"
   ]
  },
  {
   "cell_type": "code",
   "execution_count": 39,
   "metadata": {},
   "outputs": [],
   "source": [
    "#Read on and practice on type casting"
   ]
  },
  {
   "cell_type": "markdown",
   "metadata": {},
   "source": [
    "### Type casting"
   ]
  },
  {
   "cell_type": "markdown",
   "metadata": {},
   "source": [
    "it is the process of converting from one data type to another. This can be achieved using the following inbuilt functions\n",
    "int(), float() and str(). The int() function takes in a float or appropriate string and converts it to int."
   ]
  },
  {
   "cell_type": "code",
   "execution_count": 4,
   "metadata": {},
   "outputs": [
    {
     "name": "stdout",
     "output_type": "stream",
     "text": [
      "5\n",
      "<class 'int'>\n"
     ]
    }
   ],
   "source": [
    "int(5.5545)\n",
    "print(int(5.73546))  #will return only 5 because anything after the decimal is removed\n",
    "print(type(int(5.73546)))"
   ]
  },
  {
   "cell_type": "code",
   "execution_count": 5,
   "metadata": {},
   "outputs": [
    {
     "name": "stdout",
     "output_type": "stream",
     "text": [
      "4\n",
      "<class 'int'>\n"
     ]
    }
   ],
   "source": [
    "print(int(\"4\"))\n",
    "print(type(int(\"4\")))"
   ]
  },
  {
   "cell_type": "markdown",
   "metadata": {},
   "source": [
    "However, we can not type int(\"Hello\") as we will run itno error."
   ]
  },
  {
   "cell_type": "code",
   "execution_count": 6,
   "metadata": {},
   "outputs": [
    {
     "ename": "ValueError",
     "evalue": "invalid literal for int() with base 10: 'Hello'",
     "output_type": "error",
     "traceback": [
      "\u001b[1;31m---------------------------------------------------------------------------\u001b[0m",
      "\u001b[1;31mValueError\u001b[0m                                Traceback (most recent call last)",
      "\u001b[1;32m<ipython-input-6-5cdea6865089>\u001b[0m in \u001b[0;36m<module>\u001b[1;34m\u001b[0m\n\u001b[1;32m----> 1\u001b[1;33m \u001b[0mint\u001b[0m\u001b[1;33m(\u001b[0m\u001b[1;34m\"Hello\"\u001b[0m\u001b[1;33m)\u001b[0m\u001b[1;33m\u001b[0m\u001b[1;33m\u001b[0m\u001b[0m\n\u001b[0m",
      "\u001b[1;31mValueError\u001b[0m: invalid literal for int() with base 10: 'Hello'"
     ]
    }
   ],
   "source": [
    "int(\"Hello\")"
   ]
  },
  {
   "cell_type": "markdown",
   "metadata": {},
   "source": [
    "We can convert int to float by doing this e.g"
   ]
  },
  {
   "cell_type": "code",
   "execution_count": 8,
   "metadata": {},
   "outputs": [
    {
     "name": "stdout",
     "output_type": "stream",
     "text": [
      "2.0\n",
      "<class 'float'>\n"
     ]
    }
   ],
   "source": [
    "print(float(2))\n",
    "print(type(float(2)))"
   ]
  },
  {
   "cell_type": "code",
   "execution_count": 9,
   "metadata": {},
   "outputs": [
    {
     "name": "stdout",
     "output_type": "stream",
     "text": [
      "2\n",
      "<class 'str'>\n"
     ]
    }
   ],
   "source": [
    "print(str(2))\n",
    "print(type(str(2)))"
   ]
  },
  {
   "cell_type": "code",
   "execution_count": null,
   "metadata": {},
   "outputs": [],
   "source": []
  },
  {
   "cell_type": "markdown",
   "metadata": {},
   "source": [
    "## 3. Python Lists\n",
    "List refers to a collection of data that are normally related. Instead of storing these variables seperately, we create a list of the data and members are entered within square bracket. Let's say we have a group of dog that we want to deal with in our program, one way to do this is to decare every drog as a varaible and store it E.g"
   ]
  },
  {
   "cell_type": "code",
   "execution_count": 40,
   "metadata": {},
   "outputs": [
    {
     "name": "stdout",
     "output_type": "stream",
     "text": [
      "Akita, Beagle, Rettieler, Chiauha, Lowchen\n"
     ]
    }
   ],
   "source": [
    "dog_breed1 = 'Akita'\n",
    "dog_breed2 = 'Beagle'\n",
    "dog_breed3 = 'Rettieler'\n",
    "dog_breed4 = 'Chiauha'\n",
    "dog_breed5 = 'Lowchen'\n",
    "print(f\"{dog_breed1}, {dog_breed2}, {dog_breed3}, {dog_breed4}, {dog_breed5}\")"
   ]
  },
  {
   "cell_type": "code",
   "execution_count": 141,
   "metadata": {},
   "outputs": [
    {
     "name": "stdout",
     "output_type": "stream",
     "text": [
      "['Akita', 'Beagle', 'Rettieler', 'Chiauha', 'Lowchen']\n"
     ]
    }
   ],
   "source": [
    "#A more elegant and efficient way of doing this is to just use a list\n",
    "dog_breed = ['Akita','Beagle', 'Rettieler' ,'Chiauha', 'Lowchen']\n",
    "print(dog_breed)"
   ]
  },
  {
   "cell_type": "markdown",
   "metadata": {},
   "source": [
    "We can also declare a list without assigning any initial values to it. "
   ]
  },
  {
   "cell_type": "code",
   "execution_count": 42,
   "metadata": {},
   "outputs": [],
   "source": [
    "users = []"
   ]
  },
  {
   "cell_type": "markdown",
   "metadata": {},
   "source": [
    "What we have now is an empty list with no items in it. We have to use the append() method mentioned below to add items to the list.\n",
    "* **Note: modifying the list: lists are mutable, the members can be accessed using the index number with the format: list_name[index no] Individual values in the list are accessible by their indexes, and indexes always start from ZERO (0), not 1**"
   ]
  },
  {
   "cell_type": "markdown",
   "metadata": {},
   "source": [
    "### Accessing Values in List: indexing and Slicing"
   ]
  },
  {
   "cell_type": "code",
   "execution_count": 142,
   "metadata": {},
   "outputs": [
    {
     "name": "stdout",
     "output_type": "stream",
     "text": [
      "Rettieler\n"
     ]
    }
   ],
   "source": [
    "print(dog_breed[2])"
   ]
  },
  {
   "cell_type": "code",
   "execution_count": 143,
   "metadata": {},
   "outputs": [
    {
     "data": {
      "text/plain": [
       "['Akita', 'Beagle', 'Laika', 'Chiauha', 'Lowchen']"
      ]
     },
     "execution_count": 143,
     "metadata": {},
     "output_type": "execute_result"
    }
   ],
   "source": [
    "dog_breed[2] = 'Laika' #changes the value in index 2 i.e susbstitute \n",
    "dog_breed"
   ]
  },
  {
   "cell_type": "code",
   "execution_count": 144,
   "metadata": {},
   "outputs": [
    {
     "name": "stdout",
     "output_type": "stream",
     "text": [
      "Akita\n"
     ]
    }
   ],
   "source": [
    "print(dog_breed[0])"
   ]
  },
  {
   "cell_type": "code",
   "execution_count": 145,
   "metadata": {},
   "outputs": [
    {
     "name": "stdout",
     "output_type": "stream",
     "text": [
      "['Beagle', 'Laika']\n"
     ]
    }
   ],
   "source": [
    "print(dog_breed[1:3])"
   ]
  },
  {
   "cell_type": "code",
   "execution_count": 146,
   "metadata": {},
   "outputs": [
    {
     "name": "stdout",
     "output_type": "stream",
     "text": [
      "Lowchen\n"
     ]
    }
   ],
   "source": [
    "print(dog_breed[4])"
   ]
  },
  {
   "cell_type": "code",
   "execution_count": 147,
   "metadata": {},
   "outputs": [
    {
     "name": "stdout",
     "output_type": "stream",
     "text": [
      "Lowchen\n"
     ]
    }
   ],
   "source": [
    "print(dog_breed[-1])"
   ]
  },
  {
   "cell_type": "code",
   "execution_count": 148,
   "metadata": {},
   "outputs": [
    {
     "name": "stdout",
     "output_type": "stream",
     "text": [
      "['Akita', 'Beagle']\n"
     ]
    }
   ],
   "source": [
    "print(dog_breed[:2])"
   ]
  },
  {
   "cell_type": "code",
   "execution_count": 50,
   "metadata": {},
   "outputs": [
    {
     "name": "stdout",
     "output_type": "stream",
     "text": [
      "['Laika', 'Chiauha', 'Lowchen']\n"
     ]
    }
   ],
   "source": [
    "print(dog_breed[2:])"
   ]
  },
  {
   "cell_type": "markdown",
   "metadata": {},
   "source": [
    "### List Manipulation\n",
    "#### 1. Adding Element to the list"
   ]
  },
  {
   "cell_type": "code",
   "execution_count": 51,
   "metadata": {},
   "outputs": [
    {
     "name": "stdout",
     "output_type": "stream",
     "text": [
      "['Akita', 'Beagle', 'Laika', 'Chiauha', 'Lowchen', 'Lebrador']\n"
     ]
    }
   ],
   "source": [
    "dog_breed.append('Lebrador')#adds a new element to the end of the list\n",
    "print(dog_breed)"
   ]
  },
  {
   "cell_type": "code",
   "execution_count": 52,
   "metadata": {},
   "outputs": [
    {
     "name": "stdout",
     "output_type": "stream",
     "text": [
      "['Akita', 'Beagle', 'Laika', 'Pulldog', 'Great Dane', 'Chiauha', 'Lowchen', 'Lebrador']\n"
     ]
    }
   ],
   "source": [
    "dog_breed.insert(3, 'Pulldog') #inserts element in a specified position\n",
    "dog_breed.insert(4, 'Great Dane')\n",
    "print(dog_breed)"
   ]
  },
  {
   "cell_type": "code",
   "execution_count": 53,
   "metadata": {},
   "outputs": [
    {
     "name": "stdout",
     "output_type": "stream",
     "text": [
      "['Akita', 'Beagle', 'Laika', 'Pulldog', 'Great Dane', 'Chiauha', 'Lowchen', 'Lebrador', 'Border Collie', 'Dobbermann', 'Irish setter']\n"
     ]
    }
   ],
   "source": [
    "dog_breed.extend(['Border Collie', 'Dobbermann', 'Irish setter']) #used fro adding multiple elements at a time\n",
    "print(dog_breed)"
   ]
  },
  {
   "cell_type": "markdown",
   "metadata": {},
   "source": [
    "####  2. Removing element from the list"
   ]
  },
  {
   "cell_type": "code",
   "execution_count": 54,
   "metadata": {},
   "outputs": [
    {
     "name": "stdout",
     "output_type": "stream",
     "text": [
      "['Akita', 'Beagle', 'Laika', 'Pulldog', 'Great Dane', 'Chiauha', 'Lowchen', 'Lebrador', 'Border Collie', 'Irish setter']\n"
     ]
    }
   ],
   "source": [
    "dog_breed.remove('Dobbermann') #removes a specified element from the list\n",
    "print(dog_breed)"
   ]
  },
  {
   "cell_type": "code",
   "execution_count": 55,
   "metadata": {},
   "outputs": [
    {
     "name": "stdout",
     "output_type": "stream",
     "text": [
      "['Akita', 'Beagle', 'Pulldog', 'Great Dane', 'Chiauha', 'Lowchen', 'Lebrador', 'Border Collie', 'Irish setter']\n"
     ]
    }
   ],
   "source": [
    "dog_breed.pop(2)  #removes element from the list at the specified location\n",
    "print(dog_breed)"
   ]
  },
  {
   "cell_type": "markdown",
   "metadata": {},
   "source": [
    "#### 3. other methods"
   ]
  },
  {
   "cell_type": "code",
   "execution_count": 56,
   "metadata": {},
   "outputs": [
    {
     "data": {
      "text/plain": [
       "['Irish setter',\n",
       " 'Border Collie',\n",
       " 'Lebrador',\n",
       " 'Lowchen',\n",
       " 'Chiauha',\n",
       " 'Great Dane',\n",
       " 'Pulldog',\n",
       " 'Beagle',\n",
       " 'Akita']"
      ]
     },
     "execution_count": 56,
     "metadata": {},
     "output_type": "execute_result"
    }
   ],
   "source": [
    "dog_breed.reverse() #reverses the list\n",
    "dog_breed"
   ]
  },
  {
   "cell_type": "code",
   "execution_count": 154,
   "metadata": {},
   "outputs": [
    {
     "data": {
      "text/plain": [
       "['Lowchen', 'Laika', 'Chiauha', 'Beagle', 'Akita']"
      ]
     },
     "execution_count": 154,
     "metadata": {},
     "output_type": "execute_result"
    }
   ],
   "source": [
    "dog_breed.sort(reverse=True) #sorts the elements of the list in ascending order\n",
    "dog_breed"
   ]
  },
  {
   "cell_type": "code",
   "execution_count": 58,
   "metadata": {},
   "outputs": [
    {
     "name": "stdout",
     "output_type": "stream",
     "text": [
      "9\n"
     ]
    }
   ],
   "source": [
    "print(len(dog_breed)) #get the length of the list"
   ]
  },
  {
   "cell_type": "code",
   "execution_count": 59,
   "metadata": {},
   "outputs": [
    {
     "name": "stdout",
     "output_type": "stream",
     "text": [
      "The dog breed list has 9 members\n"
     ]
    }
   ],
   "source": [
    "print(f\"The dog breed list has {len(dog_breed)} members\")"
   ]
  },
  {
   "cell_type": "code",
   "execution_count": 60,
   "metadata": {},
   "outputs": [
    {
     "name": "stdout",
     "output_type": "stream",
     "text": [
      "Pulldog\n"
     ]
    }
   ],
   "source": [
    "print(max(dog_breed)) #gets the largest member of the list; P oocupies the higest position here"
   ]
  },
  {
   "cell_type": "code",
   "execution_count": 61,
   "metadata": {},
   "outputs": [
    {
     "name": "stdout",
     "output_type": "stream",
     "text": [
      "Akita\n"
     ]
    }
   ],
   "source": [
    "print(min(dog_breed)) #the lowest member interms of English alphabet"
   ]
  },
  {
   "cell_type": "code",
   "execution_count": 65,
   "metadata": {},
   "outputs": [
    {
     "name": "stdout",
     "output_type": "stream",
     "text": [
      "Akita is located at index 8\n"
     ]
    }
   ],
   "source": [
    "Akita_index = dog_breed.index('Akita')   #gives the location of an element\n",
    "print(f\"Akita is located at index {Akita_index}\")"
   ]
  },
  {
   "cell_type": "markdown",
   "metadata": {},
   "source": [
    "**\"You might have noticed that methods like insert, remove or sort that only modify the list have no return value printed – they return the default None. 1 This is a design principle for all mutable data structures in Python.\"**"
   ]
  },
  {
   "cell_type": "markdown",
   "metadata": {},
   "source": [
    "## 4. Tuples\n",
    "This is another data type like a list but with slight difference. Tuple is immutable (data can't be modified) and it is declared using parethesis i.e ()"
   ]
  },
  {
   "cell_type": "code",
   "execution_count": 66,
   "metadata": {},
   "outputs": [],
   "source": [
    "users = ('Ada', 'Turing', 'Andrew', 'Robert', 'Good Fellow', 'Prince')"
   ]
  },
  {
   "cell_type": "code",
   "execution_count": 67,
   "metadata": {},
   "outputs": [
    {
     "data": {
      "text/plain": [
       "'Turing'"
      ]
     },
     "execution_count": 67,
     "metadata": {},
     "output_type": "execute_result"
    }
   ],
   "source": [
    "users[1]"
   ]
  },
  {
   "cell_type": "code",
   "execution_count": 68,
   "metadata": {},
   "outputs": [
    {
     "data": {
      "text/plain": [
       "'Prince'"
      ]
     },
     "execution_count": 68,
     "metadata": {},
     "output_type": "execute_result"
    }
   ],
   "source": [
    "users[-1]"
   ]
  },
  {
   "cell_type": "code",
   "execution_count": 69,
   "metadata": {},
   "outputs": [
    {
     "data": {
      "text/plain": [
       "('Turing', 'Andrew', 'Robert')"
      ]
     },
     "execution_count": 69,
     "metadata": {},
     "output_type": "execute_result"
    }
   ],
   "source": [
    "users[1:4]"
   ]
  },
  {
   "cell_type": "code",
   "execution_count": 72,
   "metadata": {},
   "outputs": [
    {
     "data": {
      "text/plain": [
       "('Andrew', 'Robert')"
      ]
     },
     "execution_count": 72,
     "metadata": {},
     "output_type": "execute_result"
    }
   ],
   "source": [
    "users[-4:-2]"
   ]
  },
  {
   "cell_type": "code",
   "execution_count": 73,
   "metadata": {},
   "outputs": [
    {
     "ename": "TypeError",
     "evalue": "'tuple' object does not support item assignment",
     "output_type": "error",
     "traceback": [
      "\u001b[1;31m---------------------------------------------------------------------------\u001b[0m",
      "\u001b[1;31mTypeError\u001b[0m                                 Traceback (most recent call last)",
      "\u001b[1;32m<ipython-input-73-ca96bd6c2a8b>\u001b[0m in \u001b[0;36m<module>\u001b[1;34m\u001b[0m\n\u001b[0;32m      1\u001b[0m \u001b[1;31m#Let's try to modify\u001b[0m\u001b[1;33m\u001b[0m\u001b[1;33m\u001b[0m\u001b[1;33m\u001b[0m\u001b[0m\n\u001b[1;32m----> 2\u001b[1;33m \u001b[0musers\u001b[0m\u001b[1;33m[\u001b[0m\u001b[1;36m1\u001b[0m\u001b[1;33m]\u001b[0m \u001b[1;33m=\u001b[0m \u001b[1;34m'LoveLace'\u001b[0m\u001b[1;33m\u001b[0m\u001b[1;33m\u001b[0m\u001b[0m\n\u001b[0m",
      "\u001b[1;31mTypeError\u001b[0m: 'tuple' object does not support item assignment"
     ]
    }
   ],
   "source": [
    "#Let's try to modify\n",
    "users[1] = 'LoveLace'"
   ]
  },
  {
   "cell_type": "markdown",
   "metadata": {},
   "source": [
    "### Why use a tuple instead of a list?\n",
    "* Program execution is faster\n",
    "* In case we don't want our data to be modified i.e we want them to remain constant throughout the program"
   ]
  },
  {
   "cell_type": "markdown",
   "metadata": {},
   "source": [
    "##  5. Dictionary\n",
    "Python dictionary is a collection of data pair, a dictionary consists of a collection of key-value pairs. Each key-value pair maps the key to its associated values. Examples where a dictionary data type is very useful includes:\n",
    "1. Storing every country of the world and their capital\n",
    "2. We want to store usernames and their corresponding email etc.\n",
    "\n",
    "**A dictionary is defined by enclosing a comma-separated list of key-value pairs in curly braces ({}). A colon (:) separates each key from its associated value:**"
   ]
  },
  {
   "cell_type": "code",
   "execution_count": 76,
   "metadata": {},
   "outputs": [],
   "source": [
    "Countries = {'China' : \"Beijing\", \n",
    "           'Mali' : \"Bamako\", \n",
    "           'Israel': 'Jerusalem', \n",
    "           'Nigeria': 'Abuja', \n",
    "           'Mexico':'Mexico City',\n",
    "          'Japan': 'Tokyo',\n",
    "          'Iran': 'Tehran'}"
   ]
  },
  {
   "cell_type": "code",
   "execution_count": 3,
   "metadata": {},
   "outputs": [
    {
     "name": "stdout",
     "output_type": "stream",
     "text": [
      "['Kenya', 'Morocco', 'Libya']\n"
     ]
    }
   ],
   "source": [
    "data1 = {\"Sout America\": [\"Haiti\",\"Argetina\", \"Brazil\"],\n",
    "        \"Africa\": [\"Kenya\", \"Morocco\", \"Libya\"]}\n",
    "print(data1[\"Africa\"])"
   ]
  },
  {
   "cell_type": "markdown",
   "metadata": {},
   "source": [
    "**Dictionaries can also be defined using the *dict()* bult in function**"
   ]
  },
  {
   "cell_type": "code",
   "execution_count": 4,
   "metadata": {},
   "outputs": [
    {
     "data": {
      "text/plain": [
       "{'China': 'Beijing',\n",
       " 'Mali': 'Bamako',\n",
       " 'Israel': 'Jerusalem',\n",
       " 'Nigeria': 'Abuja',\n",
       " 'Mexico': 'Mexico City',\n",
       " 'Japan': 'Tokyo',\n",
       " 'Iran': 'Tehran'}"
      ]
     },
     "execution_count": 4,
     "metadata": {},
     "output_type": "execute_result"
    }
   ],
   "source": [
    "countries = dict(China = \"Beijing\", \n",
    "               Mali = \"Bamako\", \n",
    "               Israel = 'Jerusalem', \n",
    "               Nigeria = 'Abuja', \n",
    "               Mexico = 'Mexico City',\n",
    "              Japan = 'Tokyo',\n",
    "              Iran = 'Tehran')\n",
    "countries"
   ]
  },
  {
   "cell_type": "markdown",
   "metadata": {},
   "source": [
    "### Accessing dictionary values"
   ]
  },
  {
   "cell_type": "code",
   "execution_count": 79,
   "metadata": {},
   "outputs": [
    {
     "data": {
      "text/plain": [
       "'Beijing'"
      ]
     },
     "execution_count": 79,
     "metadata": {},
     "output_type": "execute_result"
    }
   ],
   "source": [
    "countries['China']"
   ]
  },
  {
   "cell_type": "code",
   "execution_count": 81,
   "metadata": {},
   "outputs": [
    {
     "data": {
      "text/plain": [
       "'Tehran'"
      ]
     },
     "execution_count": 81,
     "metadata": {},
     "output_type": "execute_result"
    }
   ],
   "source": [
    "countries['Iran']"
   ]
  },
  {
   "cell_type": "markdown",
   "metadata": {},
   "source": [
    "#### Adding an entry to an existing dictionary"
   ]
  },
  {
   "cell_type": "code",
   "execution_count": 87,
   "metadata": {},
   "outputs": [
    {
     "data": {
      "text/plain": [
       "{'China': 'Beijing',\n",
       " 'Israel': 'Tel Aviv',\n",
       " 'Nigeria': 'Abuja',\n",
       " 'Mexico': 'Mexico City',\n",
       " 'Japan': 'Tokyo',\n",
       " 'Iran': 'Tehran',\n",
       " 'Germany': 'Moscow'}"
      ]
     },
     "execution_count": 87,
     "metadata": {},
     "output_type": "execute_result"
    }
   ],
   "source": [
    "countries['Germany'] = 'Moscow'\n",
    "countries"
   ]
  },
  {
   "cell_type": "markdown",
   "metadata": {},
   "source": [
    "#### Updating an entry"
   ]
  },
  {
   "cell_type": "code",
   "execution_count": 84,
   "metadata": {},
   "outputs": [
    {
     "data": {
      "text/plain": [
       "'Tel Aviv'"
      ]
     },
     "execution_count": 84,
     "metadata": {},
     "output_type": "execute_result"
    }
   ],
   "source": [
    "countries['Israel'] = 'Tel Aviv'\n",
    "countries['Israel']"
   ]
  },
  {
   "cell_type": "markdown",
   "metadata": {},
   "source": [
    "#### We can delete an entry"
   ]
  },
  {
   "cell_type": "code",
   "execution_count": 85,
   "metadata": {},
   "outputs": [
    {
     "data": {
      "text/plain": [
       "{'China': 'Beijing',\n",
       " 'Israel': 'Tel Aviv',\n",
       " 'Nigeria': 'Abuja',\n",
       " 'Mexico': 'Mexico City',\n",
       " 'Japan': 'Tokyo',\n",
       " 'Iran': 'Tehran',\n",
       " 'Germany': 'Moscow'}"
      ]
     },
     "execution_count": 85,
     "metadata": {},
     "output_type": "execute_result"
    }
   ],
   "source": [
    "del countries['Mali']\n",
    "countries"
   ]
  },
  {
   "cell_type": "markdown",
   "metadata": {},
   "source": [
    "### Manipulating our dictionary"
   ]
  },
  {
   "cell_type": "markdown",
   "metadata": {},
   "source": [
    "#### We can get a value by specifying its key"
   ]
  },
  {
   "cell_type": "code",
   "execution_count": 88,
   "metadata": {},
   "outputs": [
    {
     "data": {
      "text/plain": [
       "'Tehran'"
      ]
     },
     "execution_count": 88,
     "metadata": {},
     "output_type": "execute_result"
    }
   ],
   "source": [
    "countries.get('Iran')"
   ]
  },
  {
   "cell_type": "markdown",
   "metadata": {},
   "source": [
    "#### We can get the items in our dictionary"
   ]
  },
  {
   "cell_type": "code",
   "execution_count": 89,
   "metadata": {},
   "outputs": [
    {
     "data": {
      "text/plain": [
       "dict_items([('China', 'Beijing'), ('Israel', 'Tel Aviv'), ('Nigeria', 'Abuja'), ('Mexico', 'Mexico City'), ('Japan', 'Tokyo'), ('Iran', 'Tehran'), ('Germany', 'Moscow')])"
      ]
     },
     "execution_count": 89,
     "metadata": {},
     "output_type": "execute_result"
    }
   ],
   "source": [
    "countries.items()"
   ]
  },
  {
   "cell_type": "markdown",
   "metadata": {},
   "source": [
    "#### We can get the leys and the values"
   ]
  },
  {
   "cell_type": "code",
   "execution_count": 90,
   "metadata": {},
   "outputs": [
    {
     "data": {
      "text/plain": [
       "dict_keys(['China', 'Israel', 'Nigeria', 'Mexico', 'Japan', 'Iran', 'Germany'])"
      ]
     },
     "execution_count": 90,
     "metadata": {},
     "output_type": "execute_result"
    }
   ],
   "source": [
    "countries.keys()"
   ]
  },
  {
   "cell_type": "code",
   "execution_count": 91,
   "metadata": {},
   "outputs": [
    {
     "data": {
      "text/plain": [
       "dict_values(['Beijing', 'Tel Aviv', 'Abuja', 'Mexico City', 'Tokyo', 'Tehran', 'Moscow'])"
      ]
     },
     "execution_count": 91,
     "metadata": {},
     "output_type": "execute_result"
    }
   ],
   "source": [
    "countries.values()"
   ]
  },
  {
   "cell_type": "markdown",
   "metadata": {},
   "source": [
    "#### We can get rid of a key and return it's value"
   ]
  },
  {
   "cell_type": "code",
   "execution_count": 94,
   "metadata": {},
   "outputs": [
    {
     "data": {
      "text/plain": [
       "'Moscow'"
      ]
     },
     "execution_count": 94,
     "metadata": {},
     "output_type": "execute_result"
    }
   ],
   "source": [
    "countries.pop('Germany')"
   ]
  },
  {
   "cell_type": "code",
   "execution_count": 95,
   "metadata": {},
   "outputs": [
    {
     "data": {
      "text/plain": [
       "{'China': 'Beijing',\n",
       " 'Israel': 'Tel Aviv',\n",
       " 'Nigeria': 'Abuja',\n",
       " 'Mexico': 'Mexico City',\n",
       " 'Japan': 'Tokyo',\n",
       " 'Iran': 'Tehran'}"
      ]
     },
     "execution_count": 95,
     "metadata": {},
     "output_type": "execute_result"
    }
   ],
   "source": [
    "countries"
   ]
  },
  {
   "cell_type": "markdown",
   "metadata": {},
   "source": [
    "#### We can remove the last key value pair "
   ]
  },
  {
   "cell_type": "code",
   "execution_count": 97,
   "metadata": {},
   "outputs": [
    {
     "data": {
      "text/plain": [
       "('Iran', 'Tehran')"
      ]
     },
     "execution_count": 97,
     "metadata": {},
     "output_type": "execute_result"
    }
   ],
   "source": [
    "countries.popitem()"
   ]
  },
  {
   "cell_type": "code",
   "execution_count": 99,
   "metadata": {},
   "outputs": [
    {
     "data": {
      "text/plain": [
       "{'China': 'Beijing',\n",
       " 'Israel': 'Tel Aviv',\n",
       " 'Nigeria': 'Abuja',\n",
       " 'Mexico': 'Mexico City',\n",
       " 'Japan': 'Tokyo'}"
      ]
     },
     "execution_count": 99,
     "metadata": {},
     "output_type": "execute_result"
    }
   ],
   "source": [
    "countries"
   ]
  },
  {
   "cell_type": "markdown",
   "metadata": {},
   "source": [
    "#### We can merge another dictionary to the existing one "
   ]
  },
  {
   "cell_type": "code",
   "execution_count": 100,
   "metadata": {},
   "outputs": [],
   "source": [
    "another_countries  = {'Libya':'Tripoli',\n",
    "                     'Netherland':'Amstredam',\n",
    "                     'Ghana': 'Accra'}\n",
    "countries.update(another_countries)"
   ]
  },
  {
   "cell_type": "code",
   "execution_count": 101,
   "metadata": {},
   "outputs": [
    {
     "data": {
      "text/plain": [
       "{'China': 'Beijing',\n",
       " 'Israel': 'Tel Aviv',\n",
       " 'Nigeria': 'Abuja',\n",
       " 'Mexico': 'Mexico City',\n",
       " 'Japan': 'Tokyo',\n",
       " 'Libya': 'Tripoli',\n",
       " 'Netherland': 'Amstredam',\n",
       " 'Ghana': 'Accra'}"
      ]
     },
     "execution_count": 101,
     "metadata": {},
     "output_type": "execute_result"
    }
   ],
   "source": [
    "countries"
   ]
  },
  {
   "cell_type": "markdown",
   "metadata": {},
   "source": [
    "## Control Structure in Python"
   ]
  },
  {
   "cell_type": "markdown",
   "metadata": {},
   "source": [
    "What wehave been delaling with so far is a sequecial execution of instruction in which statements are always performed one after the next, in exactly the order specified. However, the world is much more complicated and our program will often need to skip over some statements, execute a series of statements repetitively, or choose between alternate sets of statements to execute.\n",
    "**A control structure therefore directs the order of execution of the statements in a program in a version referred to as control flow**\n",
    "\n",
    "* The **if** statement is the most commonnly used conditional statement in Python and it is used to perform this sort of decision-making. It allows for conditional execution of a statement or group of statements based on the value of an expression.\n"
   ]
  },
  {
   "cell_type": "code",
   "execution_count": 10,
   "metadata": {},
   "outputs": [],
   "source": [
    "#if condition is met:\n",
    "#    do A"
   ]
  },
  {
   "cell_type": "code",
   "execution_count": 11,
   "metadata": {},
   "outputs": [
    {
     "name": "stdout",
     "output_type": "stream",
     "text": [
      "You can't apply for this job\n"
     ]
    }
   ],
   "source": [
    "standard_height = 6.0\n",
    "applicant_height = 5.6\n",
    "if applicant_height < standard_height:\n",
    "    print(\"You can't apply for this job\")\n"
   ]
  },
  {
   "cell_type": "code",
   "execution_count": 12,
   "metadata": {},
   "outputs": [
    {
     "name": "stdout",
     "output_type": "stream",
     "text": [
      "45 is greater than 40\n"
     ]
    }
   ],
   "source": [
    "x = 45\n",
    "y = 40\n",
    "if x > y:\n",
    "    print(f\"{x} is greater than {y}\")"
   ]
  },
  {
   "cell_type": "markdown",
   "metadata": {},
   "source": [
    "The **else** and **elif** clauses"
   ]
  },
  {
   "cell_type": "code",
   "execution_count": 15,
   "metadata": {},
   "outputs": [
    {
     "name": "stdout",
     "output_type": "stream",
     "text": [
      "You may proceed with your application\n"
     ]
    }
   ],
   "source": [
    "standard_height = 6.0\n",
    "applicant_height = 6.1\n",
    "if applicant_height < standard_height:\n",
    "    print(\"You can't apply for this job\")\n",
    "else:\n",
    "    print(\"You may proceed with your application\")"
   ]
  },
  {
   "cell_type": "code",
   "execution_count": 9,
   "metadata": {},
   "outputs": [
    {
     "name": "stdout",
     "output_type": "stream",
     "text": [
      "Enter your age 24\n",
      "You may proceed with the application\n"
     ]
    }
   ],
   "source": [
    "age = int(input(\"Enter your age \"))\n",
    "#name = input(\"Enter your name: \")\n",
    "if age < 18:\n",
    "    print(\"You are not qualified\")\n",
    "else:\n",
    "    print(\"You may proceed with the application\")\n",
    "    \n"
   ]
  },
  {
   "cell_type": "code",
   "execution_count": 17,
   "metadata": {},
   "outputs": [
    {
     "name": "stdout",
     "output_type": "stream",
     "text": [
      "Hello Abdullah\n"
     ]
    }
   ],
   "source": [
    "name = \"Abdullah\"\n",
    "if name == \"Basit\":\n",
    "    print(\"welcome Basit\")\n",
    "elif name == \"Surur\":\n",
    "    print(\"Welcome Surur\")\n",
    "elif name == \"Abdullah\":\n",
    "    print(\"Hello Abdullah\")\n",
    "else:\n",
    "    print(\"Your name is not known\")"
   ]
  },
  {
   "cell_type": "code",
   "execution_count": 13,
   "metadata": {},
   "outputs": [
    {
     "name": "stdout",
     "output_type": "stream",
     "text": [
      "Which course do you want to study LaW\n",
      "Congratulations, the university offers your course of choice\n"
     ]
    }
   ],
   "source": [
    "course_of_choice = input(\"Which course do you want to study \").lower()\n",
    "\n",
    "available_courses = ['physics', 'agriculture', 'law', 'medicine', 'accounting']\n",
    "\n",
    "if course_of_choice in available_courses:\n",
    "    print(\"Congratulations, the university offers your course of choice\")\n",
    "else:\n",
    "    print(\"Your chosen course is not availble, please apply somewhere else\")"
   ]
  },
  {
   "cell_type": "markdown",
   "metadata": {},
   "source": [
    "We also have three useful logical operators that can be \t\tcombined for multiple conditions. They are: **AND, OR, NOT**"
   ]
  },
  {
   "cell_type": "markdown",
   "metadata": {},
   "source": [
    "### for loop"
   ]
  },
  {
   "cell_type": "markdown",
   "metadata": {},
   "source": [
    "The for loop executes a \tblock of code\n",
    "\trepeatedly until the condition in the for statement is no longer \tvalid."
   ]
  },
  {
   "cell_type": "code",
   "execution_count": 24,
   "metadata": {},
   "outputs": [
    {
     "name": "stdout",
     "output_type": "stream",
     "text": [
      "ll be successful in this life in shaa Allah\n",
      "ll be successful in this life in shaa Allah\n",
      "ll be successful in this life in shaa Allah\n",
      "ll be successful in this life in shaa Allah\n",
      "ll be successful in this life in shaa Allah\n"
     ]
    }
   ],
   "source": [
    "for i in range(5):\n",
    "    print(\"ll be successful in this life in shaa Allah\")"
   ]
  },
  {
   "cell_type": "code",
   "execution_count": 23,
   "metadata": {},
   "outputs": [
    {
     "name": "stdout",
     "output_type": "stream",
     "text": [
      "physics\n",
      "agriculture\n",
      "law\n",
      "medicine\n",
      "accounting\n"
     ]
    }
   ],
   "source": [
    "for course in available_courses:\n",
    "    print(course)"
   ]
  },
  {
   "cell_type": "code",
   "execution_count": 14,
   "metadata": {},
   "outputs": [],
   "source": [
    "number = [1,2,3,4,5]\n",
    "number_square = []\n",
    "\n",
    "for n in number:\n",
    "    number_square.append(n**2)"
   ]
  },
  {
   "cell_type": "code",
   "execution_count": 15,
   "metadata": {},
   "outputs": [
    {
     "name": "stdout",
     "output_type": "stream",
     "text": [
      "[1, 4, 9, 16, 25]\n"
     ]
    }
   ],
   "source": [
    "print(number_square)"
   ]
  },
  {
   "cell_type": "markdown",
   "metadata": {},
   "source": [
    "### break statement"
   ]
  },
  {
   "cell_type": "code",
   "execution_count": 26,
   "metadata": {},
   "outputs": [
    {
     "name": "stdout",
     "output_type": "stream",
     "text": [
      "physics\n",
      "agriculture\n"
     ]
    }
   ],
   "source": [
    "for course in available_courses:\n",
    "    if course == \"law\":\n",
    "        break    #the iteration stops at law\n",
    "    print(course)"
   ]
  },
  {
   "cell_type": "markdown",
   "metadata": {},
   "source": [
    "### continue statement"
   ]
  },
  {
   "cell_type": "code",
   "execution_count": 27,
   "metadata": {},
   "outputs": [
    {
     "name": "stdout",
     "output_type": "stream",
     "text": [
      "physics\n",
      "agriculture\n",
      "law\n",
      "accounting\n"
     ]
    }
   ],
   "source": [
    "for course in available_courses:\n",
    "    if course == \"medicine\":\n",
    "        continue   #medicine is skipped\n",
    "    print(course)"
   ]
  },
  {
   "cell_type": "markdown",
   "metadata": {},
   "source": [
    "### While loop"
   ]
  },
  {
   "cell_type": "markdown",
   "metadata": {},
   "source": [
    "A while loop in python is used to iterate over a block of code or statements as long as the test expression is true"
   ]
  },
  {
   "cell_type": "code",
   "execution_count": 30,
   "metadata": {},
   "outputs": [
    {
     "name": "stdout",
     "output_type": "stream",
     "text": [
      "enter a number4\n",
      "greater than zero\n"
     ]
    }
   ],
   "source": [
    "num =int(input('enter a number'))\n",
    "while num >= 0:\n",
    "       if num == 0:\n",
    "          print('equal to zero')\n",
    "       elif num > 0:\n",
    "          print('greater than zero')\n",
    "       else:\n",
    "         print('enter a valid number')\n",
    "       break"
   ]
  },
  {
   "cell_type": "code",
   "execution_count": 34,
   "metadata": {},
   "outputs": [
    {
     "name": "stdout",
     "output_type": "stream",
     "text": [
      "1\n",
      "2\n",
      "3\n",
      "4\n"
     ]
    }
   ],
   "source": [
    "i = 1\n",
    "while i <= 5 :\n",
    "     print(i)\n",
    "     #if i == 4:    #the loop breaks as soon as the iteration gets to 4\n",
    "     #   break\n",
    "     i = i+1"
   ]
  },
  {
   "cell_type": "markdown",
   "metadata": {},
   "source": [
    "## Functions"
   ]
  },
  {
   "cell_type": "markdown",
   "metadata": {},
   "source": [
    "Functions are simply pre-written codes that perform a certain task, they are primary unit of re-usable codes. For an analogy, think of the mathematical functions available in MS Excel. To add numbers, we can use the \tsum() function and type sum(A1:A5) instead of typing A1+A2+A3+A4+A5.\n",
    "* Functions allow us to conveniently divide our codes into useful block in an ordered version. make it more readable, reusable and save us time."
   ]
  },
  {
   "cell_type": "code",
   "execution_count": 35,
   "metadata": {},
   "outputs": [
    {
     "name": "stdout",
     "output_type": "stream",
     "text": [
      "This is my first function\n"
     ]
    }
   ],
   "source": [
    "def my_function():\n",
    "    print(\"This is my first function\")\n",
    "    \n",
    "my_function()"
   ]
  },
  {
   "cell_type": "markdown",
   "metadata": {},
   "source": [
    "Functions may also receive arguments (variables passed from the caller to the function). For example:\n",
    "\n"
   ]
  },
  {
   "cell_type": "code",
   "execution_count": 16,
   "metadata": {},
   "outputs": [
    {
     "name": "stdout",
     "output_type": "stream",
     "text": [
      "hello Adam!\n"
     ]
    }
   ],
   "source": [
    "def hello(name):\n",
    "    print(f\"hello {name}!\")\n",
    "    \n",
    "hello('Adam')"
   ]
  },
  {
   "cell_type": "code",
   "execution_count": 19,
   "metadata": {},
   "outputs": [
    {
     "name": "stdout",
     "output_type": "stream",
     "text": [
      "\n"
     ]
    }
   ],
   "source": []
  },
  {
   "cell_type": "markdown",
   "metadata": {},
   "source": [
    "Functions may return a value to the caller, using the keyword- **return** . For example:"
   ]
  },
  {
   "cell_type": "code",
   "execution_count": 20,
   "metadata": {},
   "outputs": [
    {
     "data": {
      "text/plain": [
       "7"
      ]
     },
     "execution_count": 20,
     "metadata": {},
     "output_type": "execute_result"
    }
   ],
   "source": [
    "def simple_calc(a,b):\n",
    "    return a+b\n",
    "\n",
    "simple_calc(2,5)"
   ]
  },
  {
   "cell_type": "code",
   "execution_count": 21,
   "metadata": {},
   "outputs": [
    {
     "data": {
      "text/plain": [
       "5"
      ]
     },
     "execution_count": 21,
     "metadata": {},
     "output_type": "execute_result"
    }
   ],
   "source": [
    "simple_calc(-3, 8)"
   ]
  },
  {
   "cell_type": "code",
   "execution_count": 22,
   "metadata": {},
   "outputs": [
    {
     "data": {
      "text/plain": [
       "6"
      ]
     },
     "execution_count": 22,
     "metadata": {},
     "output_type": "execute_result"
    }
   ],
   "source": [
    "def rect_calc(length = 3, breadth = 2):  #initializing functions and keyword argument\n",
    "    return length * breadth\n",
    "rect_calc()"
   ]
  },
  {
   "cell_type": "code",
   "execution_count": 23,
   "metadata": {},
   "outputs": [
    {
     "data": {
      "text/plain": [
       "42"
      ]
     },
     "execution_count": 23,
     "metadata": {},
     "output_type": "execute_result"
    }
   ],
   "source": [
    "rect_calc(6,7)"
   ]
  },
  {
   "cell_type": "code",
   "execution_count": 24,
   "metadata": {},
   "outputs": [
    {
     "data": {
      "text/plain": [
       "24"
      ]
     },
     "execution_count": 24,
     "metadata": {},
     "output_type": "execute_result"
    }
   ],
   "source": [
    "rect_calc(4,6)     #the default values are over ridden"
   ]
  },
  {
   "cell_type": "code",
   "execution_count": 25,
   "metadata": {},
   "outputs": [
    {
     "name": "stdout",
     "output_type": "stream",
     "text": [
      "Today is Wednesday\n"
     ]
    }
   ],
   "source": [
    "def week_day(num):\n",
    "    if num == 0:\n",
    "        print(\"today is Sunday\")\n",
    "    elif num == 1:\n",
    "        print(\"today is Monday\")\n",
    "    elif num == 2:\n",
    "        print(\"Today is Tuesday\")\n",
    "    elif num == 3:\n",
    "        print(\"Today is Wednesday\")\n",
    "    elif num == 4:\n",
    "        print(\"Today is Thursday\")\n",
    "    elif num== 5:\n",
    "        print(\"Today is Friday\")\n",
    "    elif num == 6:\n",
    "        print(\"Today is Saturday\")\n",
    "    else:\n",
    "        print(\"You entered a wrong input\")\n",
    "        \n",
    "week_day(3)"
   ]
  },
  {
   "cell_type": "code",
   "execution_count": 26,
   "metadata": {},
   "outputs": [
    {
     "name": "stdout",
     "output_type": "stream",
     "text": [
      "Today is Thursday\n"
     ]
    }
   ],
   "source": [
    "week_day(4)"
   ]
  },
  {
   "cell_type": "code",
   "execution_count": 27,
   "metadata": {},
   "outputs": [
    {
     "name": "stdout",
     "output_type": "stream",
     "text": [
      "You entered a wrong input\n"
     ]
    }
   ],
   "source": [
    "week_day(20)"
   ]
  },
  {
   "cell_type": "markdown",
   "metadata": {},
   "source": [
    "### Variable scope"
   ]
  },
  {
   "cell_type": "markdown",
   "metadata": {},
   "source": [
    "variable scope is an important concept in functions. Variables declared inside a function (called local variable) is treated differently from those defined outside the function (called global variable). Things to remeber when dealing with variables at different levels:\n",
    "1. Code in the global scope cannot use any local variables.\n",
    "2. However, a local scope can access global variables.\n",
    "3. Code in a function’s local scope cannot use variables in any other local scope.\n",
    "4. You can use the same name for different variables if they are in different scopes. That is, there can be a local variable named spam and a global variable also named spam.\n",
    "\n",
    "\n",
    "**Code in the global scope cannot use any local variables.**"
   ]
  },
  {
   "cell_type": "code",
   "execution_count": 47,
   "metadata": {},
   "outputs": [
    {
     "ename": "NameError",
     "evalue": "name 'egg' is not defined",
     "output_type": "error",
     "traceback": [
      "\u001b[1;31m---------------------------------------------------------------------------\u001b[0m",
      "\u001b[1;31mNameError\u001b[0m                                 Traceback (most recent call last)",
      "\u001b[1;32m<ipython-input-47-97baf9d4d9e7>\u001b[0m in \u001b[0;36m<module>\u001b[1;34m\u001b[0m\n\u001b[0;32m      2\u001b[0m     \u001b[0megg\u001b[0m \u001b[1;33m=\u001b[0m \u001b[1;36m250\u001b[0m\u001b[1;33m\u001b[0m\u001b[1;33m\u001b[0m\u001b[0m\n\u001b[0;32m      3\u001b[0m \u001b[1;33m\u001b[0m\u001b[0m\n\u001b[1;32m----> 4\u001b[1;33m \u001b[0mprint\u001b[0m\u001b[1;33m(\u001b[0m\u001b[0megg\u001b[0m\u001b[1;33m)\u001b[0m\u001b[1;33m\u001b[0m\u001b[1;33m\u001b[0m\u001b[0m\n\u001b[0m",
      "\u001b[1;31mNameError\u001b[0m: name 'egg' is not defined"
     ]
    }
   ],
   "source": [
    "def count_egg():\n",
    "    egg = 250\n",
    "    \n",
    "    \n",
    "\n",
    "print(egg)"
   ]
  },
  {
   "cell_type": "markdown",
   "metadata": {},
   "source": [
    "**However, a local scope can access global variables.**"
   ]
  },
  {
   "cell_type": "code",
   "execution_count": 28,
   "metadata": {},
   "outputs": [
    {
     "data": {
      "text/plain": [
       "28.278"
      ]
     },
     "execution_count": 28,
     "metadata": {},
     "output_type": "execute_result"
    }
   ],
   "source": [
    "PI = 3.142\n",
    "\n",
    "def calc_area(radius):\n",
    "    return PI * radius **2\n",
    "calc_area(3)"
   ]
  },
  {
   "cell_type": "markdown",
   "metadata": {},
   "source": [
    "**Code in a function’s local scope cannot use variables in any other local scope.**"
   ]
  },
  {
   "cell_type": "code",
   "execution_count": 29,
   "metadata": {},
   "outputs": [
    {
     "ename": "TypeError",
     "evalue": "calc_circum() takes 0 positional arguments but 1 was given",
     "output_type": "error",
     "traceback": [
      "\u001b[1;31m---------------------------------------------------------------------------\u001b[0m",
      "\u001b[1;31mTypeError\u001b[0m                                 Traceback (most recent call last)",
      "\u001b[1;32m<ipython-input-29-57a8edd947e5>\u001b[0m in \u001b[0;36m<module>\u001b[1;34m\u001b[0m\n\u001b[0;32m      2\u001b[0m     \u001b[1;32mreturn\u001b[0m \u001b[1;36m2\u001b[0m \u001b[1;33m*\u001b[0m \u001b[0mPI\u001b[0m \u001b[1;33m*\u001b[0m \u001b[0mradius\u001b[0m\u001b[1;33m\u001b[0m\u001b[1;33m\u001b[0m\u001b[0m\n\u001b[0;32m      3\u001b[0m \u001b[1;33m\u001b[0m\u001b[0m\n\u001b[1;32m----> 4\u001b[1;33m \u001b[0mcalc_circum\u001b[0m\u001b[1;33m(\u001b[0m\u001b[1;36m2\u001b[0m\u001b[1;33m)\u001b[0m\u001b[1;33m\u001b[0m\u001b[1;33m\u001b[0m\u001b[0m\n\u001b[0m",
      "\u001b[1;31mTypeError\u001b[0m: calc_circum() takes 0 positional arguments but 1 was given"
     ]
    }
   ],
   "source": [
    "def calc_circum():\n",
    "    return 2 * PI * radius\n",
    "\n",
    "calc_circum(2)"
   ]
  },
  {
   "cell_type": "markdown",
   "metadata": {},
   "source": [
    "The **global** keyword is used if we need to modify a global variable within a function"
   ]
  },
  {
   "cell_type": "code",
   "execution_count": 53,
   "metadata": {},
   "outputs": [
    {
     "data": {
      "text/plain": [
       "2.0"
      ]
     },
     "execution_count": 53,
     "metadata": {},
     "output_type": "execute_result"
    }
   ],
   "source": [
    "DISTANCE = 42\n",
    "\n",
    "def calc_speed(time):\n",
    "    global DISTANCE\n",
    "    DISTANCE = 40\n",
    "    speed = DISTANCE/time\n",
    "    return speed\n",
    "calc_speed(20)"
   ]
  },
  {
   "cell_type": "markdown",
   "metadata": {},
   "source": [
    "### Exception Handling"
   ]
  },
  {
   "cell_type": "markdown",
   "metadata": {},
   "source": [
    "Right now, getting an error, or exception, in your Python program means the\n",
    "entire program will crash. You don’t want this to happen in real-world programs.\n",
    "Instead, you want the program to detect errors, handle them, and\n",
    "then continue to run."
   ]
  },
  {
   "cell_type": "code",
   "execution_count": 31,
   "metadata": {},
   "outputs": [
    {
     "data": {
      "text/plain": [
       "10.0"
      ]
     },
     "execution_count": 31,
     "metadata": {},
     "output_type": "execute_result"
    }
   ],
   "source": [
    "def divide(num1,num2):\n",
    "    return num1/num2\n",
    "\n",
    "divide(20,2)"
   ]
  },
  {
   "cell_type": "code",
   "execution_count": 32,
   "metadata": {},
   "outputs": [
    {
     "data": {
      "text/plain": [
       "3.3333333333333335"
      ]
     },
     "execution_count": 32,
     "metadata": {},
     "output_type": "execute_result"
    }
   ],
   "source": [
    "divide(10,3)"
   ]
  },
  {
   "cell_type": "code",
   "execution_count": 33,
   "metadata": {},
   "outputs": [
    {
     "ename": "ZeroDivisionError",
     "evalue": "division by zero",
     "output_type": "error",
     "traceback": [
      "\u001b[1;31m---------------------------------------------------------------------------\u001b[0m",
      "\u001b[1;31mZeroDivisionError\u001b[0m                         Traceback (most recent call last)",
      "\u001b[1;32m<ipython-input-33-75e110af52e6>\u001b[0m in \u001b[0;36m<module>\u001b[1;34m\u001b[0m\n\u001b[1;32m----> 1\u001b[1;33m \u001b[0mdivide\u001b[0m\u001b[1;33m(\u001b[0m\u001b[1;36m3\u001b[0m\u001b[1;33m,\u001b[0m\u001b[1;36m0\u001b[0m\u001b[1;33m)\u001b[0m\u001b[1;33m\u001b[0m\u001b[1;33m\u001b[0m\u001b[0m\n\u001b[0m",
      "\u001b[1;32m<ipython-input-31-f5f9153c4d65>\u001b[0m in \u001b[0;36mdivide\u001b[1;34m(num1, num2)\u001b[0m\n\u001b[0;32m      1\u001b[0m \u001b[1;32mdef\u001b[0m \u001b[0mdivide\u001b[0m\u001b[1;33m(\u001b[0m\u001b[0mnum1\u001b[0m\u001b[1;33m,\u001b[0m\u001b[0mnum2\u001b[0m\u001b[1;33m)\u001b[0m\u001b[1;33m:\u001b[0m\u001b[1;33m\u001b[0m\u001b[1;33m\u001b[0m\u001b[0m\n\u001b[1;32m----> 2\u001b[1;33m     \u001b[1;32mreturn\u001b[0m \u001b[0mnum1\u001b[0m\u001b[1;33m/\u001b[0m\u001b[0mnum2\u001b[0m\u001b[1;33m\u001b[0m\u001b[1;33m\u001b[0m\u001b[0m\n\u001b[0m\u001b[0;32m      3\u001b[0m \u001b[1;33m\u001b[0m\u001b[0m\n\u001b[0;32m      4\u001b[0m \u001b[0mdivide\u001b[0m\u001b[1;33m(\u001b[0m\u001b[1;36m20\u001b[0m\u001b[1;33m,\u001b[0m\u001b[1;36m2\u001b[0m\u001b[1;33m)\u001b[0m\u001b[1;33m\u001b[0m\u001b[1;33m\u001b[0m\u001b[0m\n",
      "\u001b[1;31mZeroDivisionError\u001b[0m: division by zero"
     ]
    }
   ],
   "source": [
    "divide(3,0)"
   ]
  },
  {
   "cell_type": "markdown",
   "metadata": {},
   "source": [
    "The error occurs because we can not divide a number by zero. we can handle this in order to prevent our program fro crashing completely by using **try** and **except** keywords"
   ]
  },
  {
   "cell_type": "code",
   "execution_count": 65,
   "metadata": {},
   "outputs": [
    {
     "data": {
      "text/plain": [
       "'can not divide by zero'"
      ]
     },
     "execution_count": 65,
     "metadata": {},
     "output_type": "execute_result"
    }
   ],
   "source": [
    "def division(num1,num2):\n",
    "    try:\n",
    "        return num1/num2\n",
    "    except(ZeroDivisionError):\n",
    "        return (\"can not divide by zero\")\n",
    "               \n",
    "division(2,0)"
   ]
  },
  {
   "cell_type": "code",
   "execution_count": 66,
   "metadata": {},
   "outputs": [
    {
     "data": {
      "text/plain": [
       "1.5"
      ]
     },
     "execution_count": 66,
     "metadata": {},
     "output_type": "execute_result"
    }
   ],
   "source": [
    "division(3,2)"
   ]
  },
  {
   "cell_type": "code",
   "execution_count": 35,
   "metadata": {},
   "outputs": [
    {
     "name": "stdout",
     "output_type": "stream",
     "text": [
      "Enter a number 4\n",
      "Enter a second number 0\n",
      "can not divide by zero\n",
      "Enter a number 5\n",
      "Enter a second number 0\n",
      "can not divide by zero\n",
      "Enter a number 4\n",
      "Enter a second number 0\n",
      "can not divide by zero\n",
      "Enter a number 2\n",
      "Enter a second number 3\n",
      "0.6666666666666666\n"
     ]
    }
   ],
   "source": [
    "def division():\n",
    "    \n",
    "    while True:\n",
    "        num1 = int(input(\"Enter a number \"))\n",
    "        num2 = int(input(\"Enter a second number \"))\n",
    "        \n",
    "        try:\n",
    "            print(num1/num2)\n",
    "            break                    #the loop execution stops if the condition is satisfied\n",
    "        except(ZeroDivisionError):\n",
    "            print (\"can not divide by zero\")\n",
    "division()"
   ]
  },
  {
   "cell_type": "markdown",
   "metadata": {},
   "source": [
    "### Python modules"
   ]
  },
  {
   "cell_type": "markdown",
   "metadata": {},
   "source": [
    "a module is a file consisting of Python code. It can define functions, classes, and variables, and can also include runnable code. Any Python file can be referenced as a module. A file containing Python code, for example: test.py, is called a module, and its name would be test. To use the built-in codes in Python modules, we have to import them into our programs first. We do that by using the **import** keyword. Classes and Functions available in modules are then called using dot (.)"
   ]
  },
  {
   "cell_type": "code",
   "execution_count": 38,
   "metadata": {},
   "outputs": [
    {
     "data": {
      "text/plain": [
       "3.0"
      ]
     },
     "execution_count": 38,
     "metadata": {},
     "output_type": "execute_result"
    }
   ],
   "source": [
    "import math\n",
    "\n",
    "math.sqrt(9)"
   ]
  },
  {
   "cell_type": "code",
   "execution_count": 39,
   "metadata": {},
   "outputs": [
    {
     "data": {
      "text/plain": [
       "9.0"
      ]
     },
     "execution_count": 39,
     "metadata": {},
     "output_type": "execute_result"
    }
   ],
   "source": [
    "math.pow(3,2)"
   ]
  },
  {
   "cell_type": "code",
   "execution_count": 40,
   "metadata": {},
   "outputs": [
    {
     "data": {
      "text/plain": [
       "22026.465794806718"
      ]
     },
     "execution_count": 40,
     "metadata": {},
     "output_type": "execute_result"
    }
   ],
   "source": [
    "math.exp(10)"
   ]
  },
  {
   "cell_type": "code",
   "execution_count": 41,
   "metadata": {},
   "outputs": [
    {
     "data": {
      "text/plain": [
       "3.0"
      ]
     },
     "execution_count": 41,
     "metadata": {},
     "output_type": "execute_result"
    }
   ],
   "source": [
    "math.fabs(-3)"
   ]
  },
  {
   "cell_type": "code",
   "execution_count": 42,
   "metadata": {},
   "outputs": [
    {
     "data": {
      "text/plain": [
       "120"
      ]
     },
     "execution_count": 42,
     "metadata": {},
     "output_type": "execute_result"
    }
   ],
   "source": [
    "math.factorial(5)"
   ]
  },
  {
   "cell_type": "code",
   "execution_count": 43,
   "metadata": {},
   "outputs": [
    {
     "data": {
      "text/plain": [
       "1.2029723039923526"
      ]
     },
     "execution_count": 43,
     "metadata": {},
     "output_type": "execute_result"
    }
   ],
   "source": [
    "math.log(3.33)"
   ]
  },
  {
   "cell_type": "code",
   "execution_count": 82,
   "metadata": {},
   "outputs": [
    {
     "data": {
      "text/plain": [
       "0.8509035245341184"
      ]
     },
     "execution_count": 82,
     "metadata": {},
     "output_type": "execute_result"
    }
   ],
   "source": [
    "math.sin(45)"
   ]
  },
  {
   "cell_type": "code",
   "execution_count": 47,
   "metadata": {},
   "outputs": [
    {
     "data": {
      "text/plain": [
       "6"
      ]
     },
     "execution_count": 47,
     "metadata": {},
     "output_type": "execute_result"
    }
   ],
   "source": [
    "import random\n",
    "\n",
    "random.randint(2,10)"
   ]
  },
  {
   "cell_type": "code",
   "execution_count": 55,
   "metadata": {},
   "outputs": [
    {
     "data": {
      "text/plain": [
       "7"
      ]
     },
     "execution_count": 55,
     "metadata": {},
     "output_type": "execute_result"
    }
   ],
   "source": [
    "\n",
    "random.randint(2,10)"
   ]
  },
  {
   "cell_type": "code",
   "execution_count": 61,
   "metadata": {},
   "outputs": [
    {
     "data": {
      "text/plain": [
       "19"
      ]
     },
     "execution_count": 61,
     "metadata": {},
     "output_type": "execute_result"
    }
   ],
   "source": [
    "random.randrange(1,20,2)  "
   ]
  },
  {
   "cell_type": "code",
   "execution_count": 63,
   "metadata": {},
   "outputs": [
    {
     "data": {
      "text/plain": [
       "['make', 'hay', 'while', 'the', 'sun', 'shines']"
      ]
     },
     "execution_count": 63,
     "metadata": {},
     "output_type": "execute_result"
    }
   ],
   "source": [
    "hay = \"make hay while the sun shines\"\n",
    "hay_to_list = list(hay.split(' '))\n",
    "hay_to_list"
   ]
  },
  {
   "cell_type": "code",
   "execution_count": 66,
   "metadata": {},
   "outputs": [
    {
     "data": {
      "text/plain": [
       "'shines'"
      ]
     },
     "execution_count": 66,
     "metadata": {},
     "output_type": "execute_result"
    }
   ],
   "source": [
    "random.choice(hay_to_list)   # a random element is selected from the list"
   ]
  },
  {
   "cell_type": "code",
   "execution_count": 67,
   "metadata": {},
   "outputs": [
    {
     "data": {
      "text/plain": [
       "['make', 'shines', 'while', 'sun', 'the', 'hay']"
      ]
     },
     "execution_count": 67,
     "metadata": {},
     "output_type": "execute_result"
    }
   ],
   "source": [
    "random.shuffle(hay_to_list)   #the list is reorderd\n",
    "hay_to_list"
   ]
  },
  {
   "cell_type": "markdown",
   "metadata": {},
   "source": [
    "### WORKING WITH FILES"
   ]
  },
  {
   "cell_type": "code",
   "execution_count": 73,
   "metadata": {},
   "outputs": [
    {
     "name": "stdout",
     "output_type": "stream",
     "text": [
      "NUMBERS:\n",
      "\n",
      "1- what is the difference between / and % (e.g 5/2, 5%2).\n",
      "\n"
     ]
    }
   ],
   "source": [
    "f = open(r\"C:\\Users\\ibrom\\Documents\\Ass 2.txt\", 'r')\n",
    "\n",
    "firstline = f.readline()\n",
    "secondline = f.readline()\n",
    "print(firstline)\n",
    "print(secondline)\n",
    "f.close() "
   ]
  },
  {
   "cell_type": "markdown",
   "metadata": {},
   "source": [
    "In addition to using the readline() method above to read a text file, we\n",
    "\tcan also use a for loop. In fact, the for loop is a more elegant and\n",
    "\tefficient way to read text files. The following program shows how this is\n",
    "\tdone."
   ]
  },
  {
   "cell_type": "code",
   "execution_count": 74,
   "metadata": {},
   "outputs": [
    {
     "name": "stdout",
     "output_type": "stream",
     "text": [
      "In addition to using the readline() method above to read a text file, we can also use a for loop. In fact, the for loop is a more elegant and efficient way to read text files. The following program shows how this is done.\n"
     ]
    }
   ],
   "source": [
    "f = open ('myfile.txt', 'r')\n",
    "for line in f:\n",
    "    print (line, end = '')\n",
    "    "
   ]
  },
  {
   "cell_type": "code",
   "execution_count": 105,
   "metadata": {},
   "outputs": [
    {
     "name": "stdout",
     "output_type": "stream",
     "text": [
      "In addition to using the readline() method above to read a text file, we can also use a for loop. In fact, the for loop is a more elegant and efficient way to read text files. The following program shows how this is done."
     ]
    }
   ],
   "source": [
    "with open('myfile.txt', 'r') as f:\n",
    "    for line in f:\n",
    "        print(line, end = '')"
   ]
  },
  {
   "cell_type": "markdown",
   "metadata": {},
   "source": [
    "We can also read docx, pdf,excelcsv etc...."
   ]
  },
  {
   "cell_type": "markdown",
   "metadata": {},
   "source": [
    "**Challenges**\n",
    "1. Write a function that takes an integer days and converts it to seconds. E.g convert(2) ➞ 172800\n",
    "2. Create a function that returns True when num1 is equal to num2; otherwise return False. E.g is_same_num(4, 8) ➞ False\n",
    "3. Create a function that takes the number of wins, draws and losses and calculates the number of points a football team has obtained so far. A win receives 3 points, a draw 1 point and a loss 0 points. E.g football_points(3, 4, 2) ➞ 13\n",
    "4. Create a function that takes a list and returns the first element. E.g get_first_value([-500, 0, 50]) ➞ -500\n",
    "5. It is possible to name the days 0 thru 6 where day 0 is Sunday and day 6 is Saturday. If you go on a wonderful holiday leaving on day number 3 (a Wednesday) and you return home after 10 nights you would return home on a Saturday (day 6). Write a general version of the program which asks for the starting day number, and the length of your stay, and it will tell you the number of day of the week you will return on."
   ]
  },
  {
   "cell_type": "code",
   "execution_count": 81,
   "metadata": {},
   "outputs": [
    {
     "data": {
      "text/plain": [
       "13"
      ]
     },
     "execution_count": 81,
     "metadata": {},
     "output_type": "execute_result"
    }
   ],
   "source": [
    "def point(win, draw, loss):\n",
    "    \n",
    "    #win, draw, loss = win*3, draw*1, loss *0\n",
    "    win = win*3\n",
    "    draw = draw*1\n",
    "    loss = loss*0\n",
    "    return win+draw+loss\n",
    "\n",
    "point(3,4,2)"
   ]
  },
  {
   "cell_type": "code",
   "execution_count": 77,
   "metadata": {},
   "outputs": [
    {
     "data": {
      "text/plain": [
       "172800"
      ]
     },
     "execution_count": 77,
     "metadata": {},
     "output_type": "execute_result"
    }
   ],
   "source": [
    "def convert_day(day):\n",
    "    return day *24*3600\n",
    "convert_day(2)\n"
   ]
  },
  {
   "cell_type": "code",
   "execution_count": 79,
   "metadata": {},
   "outputs": [
    {
     "data": {
      "text/plain": [
       "False"
      ]
     },
     "execution_count": 79,
     "metadata": {},
     "output_type": "execute_result"
    }
   ],
   "source": [
    "def is_same_num(num1,num2):\n",
    "    if num1 == num2:\n",
    "        return True\n",
    "    return False\n",
    "is_same_num(2,4)"
   ]
  },
  {
   "cell_type": "code",
   "execution_count": 80,
   "metadata": {},
   "outputs": [
    {
     "data": {
      "text/plain": [
       "True"
      ]
     },
     "execution_count": 80,
     "metadata": {},
     "output_type": "execute_result"
    }
   ],
   "source": [
    "is_same_num(3,3)"
   ]
  },
  {
   "cell_type": "code",
   "execution_count": null,
   "metadata": {},
   "outputs": [],
   "source": []
  }
 ],
 "metadata": {
  "kernelspec": {
   "display_name": "Python 3",
   "language": "python",
   "name": "python3"
  },
  "language_info": {
   "codemirror_mode": {
    "name": "ipython",
    "version": 3
   },
   "file_extension": ".py",
   "mimetype": "text/x-python",
   "name": "python",
   "nbconvert_exporter": "python",
   "pygments_lexer": "ipython3",
   "version": "3.8.8"
  }
 },
 "nbformat": 4,
 "nbformat_minor": 2
}
